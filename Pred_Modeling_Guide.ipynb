{
  "nbformat": 4,
  "nbformat_minor": 0,
  "metadata": {
    "colab": {
      "name": "Pred_Modeling_Guide.ipynb",
      "provenance": []
    },
    "kernelspec": {
      "name": "python3",
      "display_name": "Python 3"
    }
  },
  "cells": [
    {
      "cell_type": "markdown",
      "metadata": {
        "id": "RvpmLGlUdbM8"
      },
      "source": [
        "# Predictive Modeling Resource Guide\r\n",
        "- Linear Models\r\n",
        "  - Regression\r\n",
        "  - Ridge Regression\r\n",
        "  - Logistic Regression "
      ]
    },
    {
      "cell_type": "code",
      "metadata": {
        "id": "-NqIXwYBdZ8l"
      },
      "source": [
        "import pandas as pd"
      ],
      "execution_count": 1,
      "outputs": []
    },
    {
      "cell_type": "code",
      "metadata": {
        "id": "RK6ynCYveF9w"
      },
      "source": [
        "path = 'https://raw.githubusercontent.com/LambdaSchool/DS-Unit-2-Regression-Classification/master'\r\n",
        "df = pd.read_csv(path + '/data/condos/tribeca.csv')"
      ],
      "execution_count": 3,
      "outputs": []
    },
    {
      "cell_type": "code",
      "metadata": {
        "colab": {
          "base_uri": "https://localhost:8080/"
        },
        "id": "c_WY-81LeXYT",
        "outputId": "15270a45-556b-471e-99ba-697a1182dcb5"
      },
      "source": [
        "pd.options.display.float_format = '{:,.0f}'.format\r\n",
        "df['SALE_PRICE'].describe()"
      ],
      "execution_count": 5,
      "outputs": [
        {
          "output_type": "execute_result",
          "data": {
            "text/plain": [
              "count           90\n",
              "mean     3,928,736\n",
              "std      3,621,996\n",
              "min        424,770\n",
              "25%      1,156,552\n",
              "50%      2,750,000\n",
              "75%      5,087,500\n",
              "max     15,000,000\n",
              "Name: SALE_PRICE, dtype: float64"
            ]
          },
          "metadata": {
            "tags": []
          },
          "execution_count": 5
        }
      ]
    }
  ]
}